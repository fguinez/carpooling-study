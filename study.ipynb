{
 "cells": [
  {
   "attachments": {},
   "cell_type": "markdown",
   "metadata": {},
   "source": [
    "# Introducción"
   ]
  },
  {
   "attachments": {},
   "cell_type": "markdown",
   "metadata": {},
   "source": [
    "El siguiente notebook contiene una implementación del problema de estudio, incluyendo las funciones más importantes, explicaciones y algunas pruebas con los datos de prueba.\n",
    "\n",
    "En paralelo a esto, se realizó una API que realiza las mismas funciones que el notebook, pero utilizando SQL para ingenierir y almacenar datos bajo demanda y realizar las consultas de manera más eficiente. La API se encuentra dockerizada y se puede ejecutar con:\n",
    "    \n",
    "```bash\n",
    "docker compose build\n",
    "docker compose up\n",
    "```\n",
    "\n",
    "Luego, toda la documentación de los endpoints puede encontrarse en `localhost:8000/docs`.\n",
    "\n",
    "Adicionalmente se implementó el módulo `loader.py` que permite cargar fácilmente los datos de prueba en la base de datos SQL. Para esto, se debe ejecutar el siguiente comando desde la carpeta raíz del repositorio:\n",
    "\n",
    "```bash\n",
    "python loader.py\n",
    "```\n",
    "\n",
    "Por defecto se cargarán los datos en `data/trips.csv`, pero se puede especificar cualquier otro archivo CSV si se ejecuta `python loader.py [filename]`."
   ]
  },
  {
   "attachments": {},
   "cell_type": "markdown",
   "metadata": {},
   "source": [
    "# 1. Procesos automatizados para ingerir y almacenar los datos bajo demanda"
   ]
  },
  {
   "cell_type": "code",
   "execution_count": 2,
   "metadata": {},
   "outputs": [],
   "source": [
    "import numpy as np\n",
    "import pandas as pd\n",
    "\n",
    "from datetime import datetime as dt, date\n",
    "from scipy.spatial import cKDTree\n",
    "from shapely import wkt\n",
    "from shapely.geometry import Point, box\n",
    "from utils.converter import meters2degrees"
   ]
  },
  {
   "attachments": {},
   "cell_type": "markdown",
   "metadata": {},
   "source": [
    "## a. Agrupación de viajes similares\n",
    "\n",
    "La agrupación se realiza en términos de origen, destino y hora del día."
   ]
  },
  {
   "attachments": {},
   "cell_type": "markdown",
   "metadata": {},
   "source": [
    "### - Supuestos"
   ]
  },
  {
   "attachments": {},
   "cell_type": "markdown",
   "metadata": {},
   "source": [
    "Partimos por definir algunos supuestos:\n",
    "- 2 puntos en el mapa se consideran cercanos solo si están a una distancia menor a 5 km\n",
    "- 2 viajes se consideran similares temporalmente si se encuentran en un rango de 2 horas\n",
    "\n",
    "Estos supuestos pueden ser modificados en la siguiente celda de definición de constantes:"
   ]
  },
  {
   "cell_type": "code",
   "execution_count": 14,
   "metadata": {},
   "outputs": [],
   "source": [
    "MAX_NEIGHBORS_DISTANCE = 5000   # in meters\n",
    "MAX_TIME_DIFFERENCE = 120       # in minutes"
   ]
  },
  {
   "attachments": {},
   "cell_type": "markdown",
   "metadata": {},
   "source": [
    "Un último supuesto es que se asumirá que la Tierra es una esfera perfecta de radio 6371.009 kms, lo que nos permitirá calcular de forma aproximada la distancia entre dos puntos en el mapa tanto en metros como en grados.\n",
    "\n",
    "En base a este último supuesto, podemos calcular `MAX_NEIGHBORS_DEGREES` en base a `MAX_NEIGHBORS_DISTANCE`:"
   ]
  },
  {
   "cell_type": "code",
   "execution_count": 15,
   "metadata": {},
   "outputs": [
    {
     "data": {
      "text/plain": [
       "0.04496601677464458"
      ]
     },
     "execution_count": 15,
     "metadata": {},
     "output_type": "execute_result"
    }
   ],
   "source": [
    "MAX_NEIGHBORS_DEGREES = meters2degrees(MAX_NEIGHBORS_DISTANCE)\n",
    "MAX_NEIGHBORS_DEGREES"
   ]
  },
  {
   "attachments": {},
   "cell_type": "markdown",
   "metadata": {},
   "source": [
    "### - Propuestas de optimización"
   ]
  },
  {
   "attachments": {},
   "cell_type": "markdown",
   "metadata": {},
   "source": [
    "#### - Optimización 1: Utilizar un algoritmo de clustering\n",
    "\n",
    "Una alternativa para mejorar el rendimiento de la agrupación de viajes similares es partir utilizando un algoritmo de clustering. Por ejemplo, se puede KMeans para agrupar puntos en base a su cercanía si consideramos 3 dimensiones:\n",
    "    - Distancia entre puntos de origen\n",
    "    - Distancia entre puntos de destino\n",
    "    - Diferencia de horas entre viajes\n",
    "\n",
    "Esto nos permitiría reducir el número de viajes a comparar, porque podríamos buscar candidatos a viajes compatidos solo dentro del cluster (no dentro de todo el dataset).\n",
    "\n",
    "Sin embargo, es necesario precisar que en este caso particular la clusterización no es un reemplazante del proceso de búsqueda de viajes similares mostrado a continuación, dado que dentro de un cluster siguen pudiendo existir viajes que no cumplen los supuestos de cercanía mínima definidos anteriormente. La clusterización es solo un paso previo opcional que nos permite reducir el número de viajes a comparar.\n",
    "\n",
    "#### - Optimización 2: Segmentar por ciudad\n",
    "\n",
    "Finalmente, es necesario precisar que el dataset a utilizar incluye viajes en las ciudades de Praga, Turin y Hamburgo. Una alternativa que optimizaría la búsqueda de viajes similares sería trabajar con cada ciudad como un dataset separado.\n",
    "\n",
    "Sin embargo para efectos de este estudio se utilizará el dataset completo, bajo la premisa de que si el modelo se ejecuta eficientemente en este caso, es más probable que escale bien al ser aplicado en una sola ciudad pero con más datos."
   ]
  },
  {
   "attachments": {},
   "cell_type": "markdown",
   "metadata": {},
   "source": [
    "### - Carga de datos"
   ]
  },
  {
   "attachments": {},
   "cell_type": "markdown",
   "metadata": {},
   "source": [
    "Luego, importamos el dataset, transformamos las coordenadas en objetos de shapely y los tiempos en datetime:"
   ]
  },
  {
   "cell_type": "code",
   "execution_count": 16,
   "metadata": {},
   "outputs": [],
   "source": [
    "TRIPS_DATASET = \"data/trips.csv\"\n",
    "\n",
    "trips = pd.read_csv(TRIPS_DATASET)\n",
    "\n",
    "trips['origin_coord']      = trips['origin_coord'].apply(wkt.loads)\n",
    "trips['destination_coord'] = trips['destination_coord'].apply(wkt.loads)\n",
    "\n",
    "\n",
    "# NOTE: We only care about the hours, not the dates. However, since objects of\n",
    "# type datetime.time cannot be subtracted, the current date is added to all\n",
    "# values to take advantage of the subtraction properties of datetime.datetime.\n",
    "date_format=\"%Y-%m-%d %H:%M:%S\"\n",
    "trips['datetime'] = trips['datetime'].apply(\n",
    "    lambda x: dt.combine(date.today(), dt.strptime(x, date_format).time())\n",
    ")"
   ]
  },
  {
   "attachments": {},
   "cell_type": "markdown",
   "metadata": {},
   "source": [
    "Limpiamos las columnas que no vamos a utilizar:"
   ]
  },
  {
   "attachments": {},
   "cell_type": "markdown",
   "metadata": {},
   "source": [
    "_Dejaremos la columna `'region'` porque nos permitirá corroborar que no se están agrupando viajes de diferentes ciudades._"
   ]
  },
  {
   "cell_type": "code",
   "execution_count": 17,
   "metadata": {},
   "outputs": [
    {
     "data": {
      "text/html": [
       "<div>\n",
       "<style scoped>\n",
       "    .dataframe tbody tr th:only-of-type {\n",
       "        vertical-align: middle;\n",
       "    }\n",
       "\n",
       "    .dataframe tbody tr th {\n",
       "        vertical-align: top;\n",
       "    }\n",
       "\n",
       "    .dataframe thead th {\n",
       "        text-align: right;\n",
       "    }\n",
       "</style>\n",
       "<table border=\"1\" class=\"dataframe\">\n",
       "  <thead>\n",
       "    <tr style=\"text-align: right;\">\n",
       "      <th></th>\n",
       "      <th>region</th>\n",
       "      <th>origin_coord</th>\n",
       "      <th>destination_coord</th>\n",
       "      <th>datetime</th>\n",
       "    </tr>\n",
       "  </thead>\n",
       "  <tbody>\n",
       "    <tr>\n",
       "      <th>0</th>\n",
       "      <td>Prague</td>\n",
       "      <td>POINT (14.4973794438195 50.00136875782316)</td>\n",
       "      <td>POINT (14.43109483523328 50.04052930943246)</td>\n",
       "      <td>2023-01-15 09:03:40</td>\n",
       "    </tr>\n",
       "    <tr>\n",
       "      <th>1</th>\n",
       "      <td>Turin</td>\n",
       "      <td>POINT (7.672837913286881 44.9957109242058)</td>\n",
       "      <td>POINT (7.720368637535126 45.06782385393849)</td>\n",
       "      <td>2023-01-15 02:54:04</td>\n",
       "    </tr>\n",
       "    <tr>\n",
       "      <th>2</th>\n",
       "      <td>Prague</td>\n",
       "      <td>POINT (14.32427345662177 50.00002074358429)</td>\n",
       "      <td>POINT (14.47767895969969 50.09339790740321)</td>\n",
       "      <td>2023-01-15 08:52:25</td>\n",
       "    </tr>\n",
       "    <tr>\n",
       "      <th>3</th>\n",
       "      <td>Turin</td>\n",
       "      <td>POINT (7.541509189114433 45.09160503827746)</td>\n",
       "      <td>POINT (7.74528653441973 45.02628598341506)</td>\n",
       "      <td>2023-01-15 09:49:16</td>\n",
       "    </tr>\n",
       "    <tr>\n",
       "      <th>4</th>\n",
       "      <td>Turin</td>\n",
       "      <td>POINT (7.614078119815749 45.13433106465422)</td>\n",
       "      <td>POINT (7.527497142312585 45.03335051325654)</td>\n",
       "      <td>2023-01-15 12:45:54</td>\n",
       "    </tr>\n",
       "  </tbody>\n",
       "</table>\n",
       "</div>"
      ],
      "text/plain": [
       "   region                                 origin_coord  \\\n",
       "0  Prague   POINT (14.4973794438195 50.00136875782316)   \n",
       "1   Turin   POINT (7.672837913286881 44.9957109242058)   \n",
       "2  Prague  POINT (14.32427345662177 50.00002074358429)   \n",
       "3   Turin  POINT (7.541509189114433 45.09160503827746)   \n",
       "4   Turin  POINT (7.614078119815749 45.13433106465422)   \n",
       "\n",
       "                             destination_coord            datetime  \n",
       "0  POINT (14.43109483523328 50.04052930943246) 2023-01-15 09:03:40  \n",
       "1  POINT (7.720368637535126 45.06782385393849) 2023-01-15 02:54:04  \n",
       "2  POINT (14.47767895969969 50.09339790740321) 2023-01-15 08:52:25  \n",
       "3   POINT (7.74528653441973 45.02628598341506) 2023-01-15 09:49:16  \n",
       "4  POINT (7.527497142312585 45.03335051325654) 2023-01-15 12:45:54  "
      ]
     },
     "execution_count": 17,
     "metadata": {},
     "output_type": "execute_result"
    }
   ],
   "source": [
    "trips.drop(['datasource'], axis=1, inplace=True)\n",
    "trips.head()"
   ]
  },
  {
   "attachments": {},
   "cell_type": "markdown",
   "metadata": {},
   "source": [
    "### - Búsqueda de viajes similares"
   ]
  },
  {
   "attachments": {},
   "cell_type": "markdown",
   "metadata": {},
   "source": [
    "Hacemos uso de KD-Tree y las operaciones matriciales de pandas para realizar búsquedas óptimas de viajes similares.\n",
    "\n",
    "_Esta implementación de `ckdnearest` difiere ligeramente de la de la API, dado que las coordenadas de los puntos son guardadas de forma diferente en el DataFrame y en SQL._"
   ]
  },
  {
   "cell_type": "code",
   "execution_count": 18,
   "metadata": {},
   "outputs": [],
   "source": [
    "# Based on https://gis.stackexchange.com/questions/222315/finding-nearest-point-in-other-geodataframe-using-geopandas\n",
    "def ckdnearest(\n",
    "    df: pd.DataFrame,\n",
    "    column: str,\n",
    "    distance: float=MAX_NEIGHBORS_DEGREES\n",
    "):\n",
    "    \"\"\"Find points that are less than the indicated distance from each point in\n",
    "    the indicated column.\n",
    "\n",
    "    Argument\n",
    "    ---------\n",
    "    df: pd.DataFrame\n",
    "        A pandas DataFrame (or GeoPandasDataframe) with at least one column of\n",
    "        coordinates\n",
    "    column: str\n",
    "        The column of the df used for search the nearest points. Elements in\n",
    "        this columns must be shapely.geometry.point.Point.\n",
    "    distance: float (optional)\n",
    "        The maximum distance a point can be to be considered a neighbor. The\n",
    "        default value is MAX_NEIGHBORS_DEGREES.\n",
    "\n",
    "    Returns\n",
    "    -------\n",
    "    df_nearest: pd.DataFrame\n",
    "        A pandas DataFrame with the same columns as the input df, plus a column\n",
    "        with the nearest points named {column}_neighbors.\n",
    "    \"\"\"\n",
    "    coords = np.array(list(df[column].apply(lambda x: (x.x, x.y))))\n",
    "    btree = cKDTree(coords)\n",
    "    # Find the nearest points\n",
    "    idx = btree.query_ball_tree(btree, r=distance)\n",
    "    for i, neighbors in enumerate(idx):\n",
    "        neighbors.remove(i)\n",
    "    df_nearest = pd.concat(\n",
    "        [\n",
    "            df,\n",
    "            pd.Series(idx, name=f'{column}_neighbors')\n",
    "        ], \n",
    "        axis=1)\n",
    "    return df_nearest\n",
    "\n",
    "\n",
    "def cotemporals(df: pd.DataFrame, column: str, time: int=MAX_TIME_DIFFERENCE):\n",
    "    \"\"\"Find points that are less than the indicated time difference from each\n",
    "    point in the indicated column.\n",
    "\n",
    "    Argument\n",
    "    ---------\n",
    "    df: pd.DataFrame\n",
    "        A pandas DataFrame with at least one column of datetimes.\n",
    "    column: str\n",
    "        The column of the df used for search the cotemporal trips. Elements in\n",
    "        this columns must be datetime.datetime.\n",
    "    time: int (optional)\n",
    "        The maximum time difference a point can be to be considered a neighbor.\n",
    "        The default value is MAX_TIME_DIFFERENCE.\n",
    "\n",
    "    Returns\n",
    "    -------\n",
    "    df_nearest: pd.DataFrame\n",
    "        A pandas DataFrame with the same columns as the input df, plus a column\n",
    "        with the nearest points named {column}_neighbors.\n",
    "    \"\"\"\n",
    "    delta = pd.Timedelta(time, unit='m')\n",
    "    def get_neighbors(x):\n",
    "        return df[\n",
    "            (\n",
    "                (\n",
    "                    (df[column] >= x[column]) &\n",
    "                    (df[column] <= x[column] + delta)\n",
    "                ) | (\n",
    "                    (df[column] <= x[column]) &\n",
    "                    (df[column] >= x[column] - delta)\n",
    "                )\n",
    "            ) & (df.index != x.name)\n",
    "        ].index.to_list()\n",
    "    df_nearest = pd.concat(\n",
    "        [\n",
    "            df,\n",
    "            pd.Series(\n",
    "                df.apply(get_neighbors, axis=1),\n",
    "                name=f'{column}_neighbors'\n",
    "            )\n",
    "        ],\n",
    "        axis=1\n",
    "    )\n",
    "    return df_nearest"
   ]
  },
  {
   "attachments": {},
   "cell_type": "markdown",
   "metadata": {},
   "source": [
    "Buscamos los viajes similares en base al punto de origen y los guardamos en el DataFrame:"
   ]
  },
  {
   "cell_type": "code",
   "execution_count": 385,
   "metadata": {},
   "outputs": [
    {
     "data": {
      "text/html": [
       "<div>\n",
       "<style scoped>\n",
       "    .dataframe tbody tr th:only-of-type {\n",
       "        vertical-align: middle;\n",
       "    }\n",
       "\n",
       "    .dataframe tbody tr th {\n",
       "        vertical-align: top;\n",
       "    }\n",
       "\n",
       "    .dataframe thead th {\n",
       "        text-align: right;\n",
       "    }\n",
       "</style>\n",
       "<table border=\"1\" class=\"dataframe\">\n",
       "  <thead>\n",
       "    <tr style=\"text-align: right;\">\n",
       "      <th></th>\n",
       "      <th>region</th>\n",
       "      <th>origin_coord</th>\n",
       "      <th>destination_coord</th>\n",
       "      <th>datetime</th>\n",
       "      <th>origin_coord_neighbors</th>\n",
       "    </tr>\n",
       "  </thead>\n",
       "  <tbody>\n",
       "    <tr>\n",
       "      <th>0</th>\n",
       "      <td>Prague</td>\n",
       "      <td>POINT (14.4973794438195 50.00136875782316)</td>\n",
       "      <td>POINT (14.43109483523328 50.04052930943246)</td>\n",
       "      <td>2023-01-15 09:03:40</td>\n",
       "      <td>[15, 47]</td>\n",
       "    </tr>\n",
       "    <tr>\n",
       "      <th>1</th>\n",
       "      <td>Turin</td>\n",
       "      <td>POINT (7.672837913286881 44.9957109242058)</td>\n",
       "      <td>POINT (7.720368637535126 45.06782385393849)</td>\n",
       "      <td>2023-01-15 02:54:04</td>\n",
       "      <td>[43, 63, 65]</td>\n",
       "    </tr>\n",
       "    <tr>\n",
       "      <th>2</th>\n",
       "      <td>Prague</td>\n",
       "      <td>POINT (14.32427345662177 50.00002074358429)</td>\n",
       "      <td>POINT (14.47767895969969 50.09339790740321)</td>\n",
       "      <td>2023-01-15 08:52:25</td>\n",
       "      <td>[64]</td>\n",
       "    </tr>\n",
       "    <tr>\n",
       "      <th>3</th>\n",
       "      <td>Turin</td>\n",
       "      <td>POINT (7.541509189114433 45.09160503827746)</td>\n",
       "      <td>POINT (7.74528653441973 45.02628598341506)</td>\n",
       "      <td>2023-01-15 09:49:16</td>\n",
       "      <td>[16, 68, 74, 84, 87]</td>\n",
       "    </tr>\n",
       "    <tr>\n",
       "      <th>4</th>\n",
       "      <td>Turin</td>\n",
       "      <td>POINT (7.614078119815749 45.13433106465422)</td>\n",
       "      <td>POINT (7.527497142312585 45.03335051325654)</td>\n",
       "      <td>2023-01-15 12:45:54</td>\n",
       "      <td>[41, 58]</td>\n",
       "    </tr>\n",
       "  </tbody>\n",
       "</table>\n",
       "</div>"
      ],
      "text/plain": [
       "   region                                 origin_coord  \\\n",
       "0  Prague   POINT (14.4973794438195 50.00136875782316)   \n",
       "1   Turin   POINT (7.672837913286881 44.9957109242058)   \n",
       "2  Prague  POINT (14.32427345662177 50.00002074358429)   \n",
       "3   Turin  POINT (7.541509189114433 45.09160503827746)   \n",
       "4   Turin  POINT (7.614078119815749 45.13433106465422)   \n",
       "\n",
       "                             destination_coord            datetime  \\\n",
       "0  POINT (14.43109483523328 50.04052930943246) 2023-01-15 09:03:40   \n",
       "1  POINT (7.720368637535126 45.06782385393849) 2023-01-15 02:54:04   \n",
       "2  POINT (14.47767895969969 50.09339790740321) 2023-01-15 08:52:25   \n",
       "3   POINT (7.74528653441973 45.02628598341506) 2023-01-15 09:49:16   \n",
       "4  POINT (7.527497142312585 45.03335051325654) 2023-01-15 12:45:54   \n",
       "\n",
       "  origin_coord_neighbors  \n",
       "0               [15, 47]  \n",
       "1           [43, 63, 65]  \n",
       "2                   [64]  \n",
       "3   [16, 68, 74, 84, 87]  \n",
       "4               [41, 58]  "
      ]
     },
     "execution_count": 385,
     "metadata": {},
     "output_type": "execute_result"
    }
   ],
   "source": [
    "trips = ckdnearest(trips, 'origin_coord')\n",
    "trips.head()"
   ]
  },
  {
   "attachments": {},
   "cell_type": "markdown",
   "metadata": {},
   "source": [
    "Buscamos los viajes similares en base al punto de destino y los guardamos en el DataFrame:"
   ]
  },
  {
   "cell_type": "code",
   "execution_count": 386,
   "metadata": {},
   "outputs": [
    {
     "data": {
      "text/html": [
       "<div>\n",
       "<style scoped>\n",
       "    .dataframe tbody tr th:only-of-type {\n",
       "        vertical-align: middle;\n",
       "    }\n",
       "\n",
       "    .dataframe tbody tr th {\n",
       "        vertical-align: top;\n",
       "    }\n",
       "\n",
       "    .dataframe thead th {\n",
       "        text-align: right;\n",
       "    }\n",
       "</style>\n",
       "<table border=\"1\" class=\"dataframe\">\n",
       "  <thead>\n",
       "    <tr style=\"text-align: right;\">\n",
       "      <th></th>\n",
       "      <th>region</th>\n",
       "      <th>origin_coord</th>\n",
       "      <th>destination_coord</th>\n",
       "      <th>datetime</th>\n",
       "      <th>origin_coord_neighbors</th>\n",
       "      <th>destination_coord_neighbors</th>\n",
       "    </tr>\n",
       "  </thead>\n",
       "  <tbody>\n",
       "    <tr>\n",
       "      <th>0</th>\n",
       "      <td>Prague</td>\n",
       "      <td>POINT (14.4973794438195 50.00136875782316)</td>\n",
       "      <td>POINT (14.43109483523328 50.04052930943246)</td>\n",
       "      <td>2023-01-15 09:03:40</td>\n",
       "      <td>[15, 47]</td>\n",
       "      <td>[36, 67, 95]</td>\n",
       "    </tr>\n",
       "    <tr>\n",
       "      <th>1</th>\n",
       "      <td>Turin</td>\n",
       "      <td>POINT (7.672837913286881 44.9957109242058)</td>\n",
       "      <td>POINT (7.720368637535126 45.06782385393849)</td>\n",
       "      <td>2023-01-15 02:54:04</td>\n",
       "      <td>[43, 63, 65]</td>\n",
       "      <td>[18, 20, 31, 33, 37, 49, 58, 84, 86]</td>\n",
       "    </tr>\n",
       "    <tr>\n",
       "      <th>2</th>\n",
       "      <td>Prague</td>\n",
       "      <td>POINT (14.32427345662177 50.00002074358429)</td>\n",
       "      <td>POINT (14.47767895969969 50.09339790740321)</td>\n",
       "      <td>2023-01-15 08:52:25</td>\n",
       "      <td>[64]</td>\n",
       "      <td>[13, 73, 77, 95]</td>\n",
       "    </tr>\n",
       "    <tr>\n",
       "      <th>3</th>\n",
       "      <td>Turin</td>\n",
       "      <td>POINT (7.541509189114433 45.09160503827746)</td>\n",
       "      <td>POINT (7.74528653441973 45.02628598341506)</td>\n",
       "      <td>2023-01-15 09:49:16</td>\n",
       "      <td>[16, 68, 74, 84, 87]</td>\n",
       "      <td>[16, 31, 37, 46, 63, 65]</td>\n",
       "    </tr>\n",
       "    <tr>\n",
       "      <th>4</th>\n",
       "      <td>Turin</td>\n",
       "      <td>POINT (7.614078119815749 45.13433106465422)</td>\n",
       "      <td>POINT (7.527497142312585 45.03335051325654)</td>\n",
       "      <td>2023-01-15 12:45:54</td>\n",
       "      <td>[41, 58]</td>\n",
       "      <td>[41, 56, 76]</td>\n",
       "    </tr>\n",
       "  </tbody>\n",
       "</table>\n",
       "</div>"
      ],
      "text/plain": [
       "   region                                 origin_coord  \\\n",
       "0  Prague   POINT (14.4973794438195 50.00136875782316)   \n",
       "1   Turin   POINT (7.672837913286881 44.9957109242058)   \n",
       "2  Prague  POINT (14.32427345662177 50.00002074358429)   \n",
       "3   Turin  POINT (7.541509189114433 45.09160503827746)   \n",
       "4   Turin  POINT (7.614078119815749 45.13433106465422)   \n",
       "\n",
       "                             destination_coord            datetime  \\\n",
       "0  POINT (14.43109483523328 50.04052930943246) 2023-01-15 09:03:40   \n",
       "1  POINT (7.720368637535126 45.06782385393849) 2023-01-15 02:54:04   \n",
       "2  POINT (14.47767895969969 50.09339790740321) 2023-01-15 08:52:25   \n",
       "3   POINT (7.74528653441973 45.02628598341506) 2023-01-15 09:49:16   \n",
       "4  POINT (7.527497142312585 45.03335051325654) 2023-01-15 12:45:54   \n",
       "\n",
       "  origin_coord_neighbors           destination_coord_neighbors  \n",
       "0               [15, 47]                          [36, 67, 95]  \n",
       "1           [43, 63, 65]  [18, 20, 31, 33, 37, 49, 58, 84, 86]  \n",
       "2                   [64]                      [13, 73, 77, 95]  \n",
       "3   [16, 68, 74, 84, 87]              [16, 31, 37, 46, 63, 65]  \n",
       "4               [41, 58]                          [41, 56, 76]  "
      ]
     },
     "execution_count": 386,
     "metadata": {},
     "output_type": "execute_result"
    }
   ],
   "source": [
    "trips = ckdnearest(trips, 'destination_coord')\n",
    "trips.head()"
   ]
  },
  {
   "attachments": {},
   "cell_type": "markdown",
   "metadata": {},
   "source": [
    "Buscamos los viajes similares en base a la hora y los guardamos en el DataFrame:"
   ]
  },
  {
   "cell_type": "code",
   "execution_count": 387,
   "metadata": {},
   "outputs": [
    {
     "data": {
      "text/html": [
       "<div>\n",
       "<style scoped>\n",
       "    .dataframe tbody tr th:only-of-type {\n",
       "        vertical-align: middle;\n",
       "    }\n",
       "\n",
       "    .dataframe tbody tr th {\n",
       "        vertical-align: top;\n",
       "    }\n",
       "\n",
       "    .dataframe thead th {\n",
       "        text-align: right;\n",
       "    }\n",
       "</style>\n",
       "<table border=\"1\" class=\"dataframe\">\n",
       "  <thead>\n",
       "    <tr style=\"text-align: right;\">\n",
       "      <th></th>\n",
       "      <th>region</th>\n",
       "      <th>origin_coord</th>\n",
       "      <th>destination_coord</th>\n",
       "      <th>datetime</th>\n",
       "      <th>origin_coord_neighbors</th>\n",
       "      <th>destination_coord_neighbors</th>\n",
       "      <th>datetime_neighbors</th>\n",
       "    </tr>\n",
       "  </thead>\n",
       "  <tbody>\n",
       "    <tr>\n",
       "      <th>0</th>\n",
       "      <td>Prague</td>\n",
       "      <td>POINT (14.4973794438195 50.00136875782316)</td>\n",
       "      <td>POINT (14.43109483523328 50.04052930943246)</td>\n",
       "      <td>2023-01-15 09:03:40</td>\n",
       "      <td>[15, 47]</td>\n",
       "      <td>[36, 67, 95]</td>\n",
       "      <td>[2, 3, 5, 11, 25, 48, 60, 63, 65, 66, 71, 73, ...</td>\n",
       "    </tr>\n",
       "    <tr>\n",
       "      <th>1</th>\n",
       "      <td>Turin</td>\n",
       "      <td>POINT (7.672837913286881 44.9957109242058)</td>\n",
       "      <td>POINT (7.720368637535126 45.06782385393849)</td>\n",
       "      <td>2023-01-15 02:54:04</td>\n",
       "      <td>[43, 63, 65]</td>\n",
       "      <td>[18, 20, 31, 33, 37, 49, 58, 84, 86]</td>\n",
       "      <td>[8, 13, 26, 28, 36, 42, 44, 47, 49, 50, 51, 54...</td>\n",
       "    </tr>\n",
       "    <tr>\n",
       "      <th>2</th>\n",
       "      <td>Prague</td>\n",
       "      <td>POINT (14.32427345662177 50.00002074358429)</td>\n",
       "      <td>POINT (14.47767895969969 50.09339790740321)</td>\n",
       "      <td>2023-01-15 08:52:25</td>\n",
       "      <td>[64]</td>\n",
       "      <td>[13, 73, 77, 95]</td>\n",
       "      <td>[0, 3, 5, 25, 48, 60, 63, 65, 66, 71, 73, 79, ...</td>\n",
       "    </tr>\n",
       "    <tr>\n",
       "      <th>3</th>\n",
       "      <td>Turin</td>\n",
       "      <td>POINT (7.541509189114433 45.09160503827746)</td>\n",
       "      <td>POINT (7.74528653441973 45.02628598341506)</td>\n",
       "      <td>2023-01-15 09:49:16</td>\n",
       "      <td>[16, 68, 74, 84, 87]</td>\n",
       "      <td>[16, 31, 37, 46, 63, 65]</td>\n",
       "      <td>[0, 2, 5, 11, 25, 39, 48, 60, 63, 65, 66, 73, ...</td>\n",
       "    </tr>\n",
       "    <tr>\n",
       "      <th>4</th>\n",
       "      <td>Turin</td>\n",
       "      <td>POINT (7.614078119815749 45.13433106465422)</td>\n",
       "      <td>POINT (7.527497142312585 45.03335051325654)</td>\n",
       "      <td>2023-01-15 12:45:54</td>\n",
       "      <td>[41, 58]</td>\n",
       "      <td>[41, 56, 76]</td>\n",
       "      <td>[6, 11, 15, 17, 20, 22, 24, 29, 31, 37, 39, 40...</td>\n",
       "    </tr>\n",
       "  </tbody>\n",
       "</table>\n",
       "</div>"
      ],
      "text/plain": [
       "   region                                 origin_coord  \\\n",
       "0  Prague   POINT (14.4973794438195 50.00136875782316)   \n",
       "1   Turin   POINT (7.672837913286881 44.9957109242058)   \n",
       "2  Prague  POINT (14.32427345662177 50.00002074358429)   \n",
       "3   Turin  POINT (7.541509189114433 45.09160503827746)   \n",
       "4   Turin  POINT (7.614078119815749 45.13433106465422)   \n",
       "\n",
       "                             destination_coord            datetime  \\\n",
       "0  POINT (14.43109483523328 50.04052930943246) 2023-01-15 09:03:40   \n",
       "1  POINT (7.720368637535126 45.06782385393849) 2023-01-15 02:54:04   \n",
       "2  POINT (14.47767895969969 50.09339790740321) 2023-01-15 08:52:25   \n",
       "3   POINT (7.74528653441973 45.02628598341506) 2023-01-15 09:49:16   \n",
       "4  POINT (7.527497142312585 45.03335051325654) 2023-01-15 12:45:54   \n",
       "\n",
       "  origin_coord_neighbors           destination_coord_neighbors  \\\n",
       "0               [15, 47]                          [36, 67, 95]   \n",
       "1           [43, 63, 65]  [18, 20, 31, 33, 37, 49, 58, 84, 86]   \n",
       "2                   [64]                      [13, 73, 77, 95]   \n",
       "3   [16, 68, 74, 84, 87]              [16, 31, 37, 46, 63, 65]   \n",
       "4               [41, 58]                          [41, 56, 76]   \n",
       "\n",
       "                                  datetime_neighbors  \n",
       "0  [2, 3, 5, 11, 25, 48, 60, 63, 65, 66, 71, 73, ...  \n",
       "1  [8, 13, 26, 28, 36, 42, 44, 47, 49, 50, 51, 54...  \n",
       "2  [0, 3, 5, 25, 48, 60, 63, 65, 66, 71, 73, 79, ...  \n",
       "3  [0, 2, 5, 11, 25, 39, 48, 60, 63, 65, 66, 73, ...  \n",
       "4  [6, 11, 15, 17, 20, 22, 24, 29, 31, 37, 39, 40...  "
      ]
     },
     "execution_count": 387,
     "metadata": {},
     "output_type": "execute_result"
    }
   ],
   "source": [
    "trips = cotemporals(trips, 'datetime')\n",
    "trips.head()"
   ]
  },
  {
   "attachments": {},
   "cell_type": "markdown",
   "metadata": {},
   "source": [
    "Finalmente, calculamos los viajes similares en base al cumplimiento de los 3 criterios anteriores:"
   ]
  },
  {
   "cell_type": "code",
   "execution_count": 557,
   "metadata": {},
   "outputs": [
    {
     "data": {
      "text/html": [
       "<div>\n",
       "<style scoped>\n",
       "    .dataframe tbody tr th:only-of-type {\n",
       "        vertical-align: middle;\n",
       "    }\n",
       "\n",
       "    .dataframe tbody tr th {\n",
       "        vertical-align: top;\n",
       "    }\n",
       "\n",
       "    .dataframe thead th {\n",
       "        text-align: right;\n",
       "    }\n",
       "</style>\n",
       "<table border=\"1\" class=\"dataframe\">\n",
       "  <thead>\n",
       "    <tr style=\"text-align: right;\">\n",
       "      <th></th>\n",
       "      <th>region</th>\n",
       "      <th>origin_coord</th>\n",
       "      <th>destination_coord</th>\n",
       "      <th>datetime</th>\n",
       "      <th>origin_coord_neighbors</th>\n",
       "      <th>destination_coord_neighbors</th>\n",
       "      <th>datetime_neighbors</th>\n",
       "      <th>similar_trips</th>\n",
       "    </tr>\n",
       "  </thead>\n",
       "  <tbody>\n",
       "    <tr>\n",
       "      <th>0</th>\n",
       "      <td>Prague</td>\n",
       "      <td>POINT (14.4973794438195 50.00136875782316)</td>\n",
       "      <td>POINT (14.43109483523328 50.04052930943246)</td>\n",
       "      <td>2023-01-15 09:03:40</td>\n",
       "      <td>[15, 47]</td>\n",
       "      <td>[36, 67, 95]</td>\n",
       "      <td>[2, 3, 5, 11, 25, 48, 60, 63, 65, 66, 71, 73, ...</td>\n",
       "      <td>NaN</td>\n",
       "    </tr>\n",
       "    <tr>\n",
       "      <th>1</th>\n",
       "      <td>Turin</td>\n",
       "      <td>POINT (7.672837913286881 44.9957109242058)</td>\n",
       "      <td>POINT (7.720368637535126 45.06782385393849)</td>\n",
       "      <td>2023-01-15 02:54:04</td>\n",
       "      <td>[43, 63, 65]</td>\n",
       "      <td>[18, 20, 31, 33, 37, 49, 58, 84, 86]</td>\n",
       "      <td>[8, 13, 26, 28, 36, 42, 44, 47, 49, 50, 51, 54...</td>\n",
       "      <td>NaN</td>\n",
       "    </tr>\n",
       "    <tr>\n",
       "      <th>2</th>\n",
       "      <td>Prague</td>\n",
       "      <td>POINT (14.32427345662177 50.00002074358429)</td>\n",
       "      <td>POINT (14.47767895969969 50.09339790740321)</td>\n",
       "      <td>2023-01-15 08:52:25</td>\n",
       "      <td>[64]</td>\n",
       "      <td>[13, 73, 77, 95]</td>\n",
       "      <td>[0, 3, 5, 25, 48, 60, 63, 65, 66, 71, 73, 79, ...</td>\n",
       "      <td>NaN</td>\n",
       "    </tr>\n",
       "    <tr>\n",
       "      <th>3</th>\n",
       "      <td>Turin</td>\n",
       "      <td>POINT (7.541509189114433 45.09160503827746)</td>\n",
       "      <td>POINT (7.74528653441973 45.02628598341506)</td>\n",
       "      <td>2023-01-15 09:49:16</td>\n",
       "      <td>[16, 68, 74, 84, 87]</td>\n",
       "      <td>[16, 31, 37, 46, 63, 65]</td>\n",
       "      <td>[0, 2, 5, 11, 25, 39, 48, 60, 63, 65, 66, 73, ...</td>\n",
       "      <td>NaN</td>\n",
       "    </tr>\n",
       "    <tr>\n",
       "      <th>4</th>\n",
       "      <td>Turin</td>\n",
       "      <td>POINT (7.614078119815749 45.13433106465422)</td>\n",
       "      <td>POINT (7.527497142312585 45.03335051325654)</td>\n",
       "      <td>2023-01-15 12:45:54</td>\n",
       "      <td>[41, 58]</td>\n",
       "      <td>[41, 56, 76]</td>\n",
       "      <td>[6, 11, 15, 17, 20, 22, 24, 29, 31, 37, 39, 40...</td>\n",
       "      <td>NaN</td>\n",
       "    </tr>\n",
       "  </tbody>\n",
       "</table>\n",
       "</div>"
      ],
      "text/plain": [
       "   region                                 origin_coord  \\\n",
       "0  Prague   POINT (14.4973794438195 50.00136875782316)   \n",
       "1   Turin   POINT (7.672837913286881 44.9957109242058)   \n",
       "2  Prague  POINT (14.32427345662177 50.00002074358429)   \n",
       "3   Turin  POINT (7.541509189114433 45.09160503827746)   \n",
       "4   Turin  POINT (7.614078119815749 45.13433106465422)   \n",
       "\n",
       "                             destination_coord            datetime  \\\n",
       "0  POINT (14.43109483523328 50.04052930943246) 2023-01-15 09:03:40   \n",
       "1  POINT (7.720368637535126 45.06782385393849) 2023-01-15 02:54:04   \n",
       "2  POINT (14.47767895969969 50.09339790740321) 2023-01-15 08:52:25   \n",
       "3   POINT (7.74528653441973 45.02628598341506) 2023-01-15 09:49:16   \n",
       "4  POINT (7.527497142312585 45.03335051325654) 2023-01-15 12:45:54   \n",
       "\n",
       "  origin_coord_neighbors           destination_coord_neighbors  \\\n",
       "0               [15, 47]                          [36, 67, 95]   \n",
       "1           [43, 63, 65]  [18, 20, 31, 33, 37, 49, 58, 84, 86]   \n",
       "2                   [64]                      [13, 73, 77, 95]   \n",
       "3   [16, 68, 74, 84, 87]              [16, 31, 37, 46, 63, 65]   \n",
       "4               [41, 58]                          [41, 56, 76]   \n",
       "\n",
       "                                  datetime_neighbors similar_trips  \n",
       "0  [2, 3, 5, 11, 25, 48, 60, 63, 65, 66, 71, 73, ...           NaN  \n",
       "1  [8, 13, 26, 28, 36, 42, 44, 47, 49, 50, 51, 54...           NaN  \n",
       "2  [0, 3, 5, 25, 48, 60, 63, 65, 66, 71, 73, 79, ...           NaN  \n",
       "3  [0, 2, 5, 11, 25, 39, 48, 60, 63, 65, 66, 73, ...           NaN  \n",
       "4  [6, 11, 15, 17, 20, 22, 24, 29, 31, 37, 39, 40...           NaN  "
      ]
     },
     "execution_count": 557,
     "metadata": {},
     "output_type": "execute_result"
    }
   ],
   "source": [
    "def get_similar_trips(trip):\n",
    "    \"\"\"Get similar trips to the indicated trip. Similar trips are trips that\n",
    "    have the same origin and destination coordinates and are cotemporals.\n",
    "    \"\"\"\n",
    "    origin_neighbors = set(trip.origin_coord_neighbors)\n",
    "    destination_neighbors = set(trip.destination_coord_neighbors)\n",
    "    time_neighbors = set(trip.datetime_neighbors)\n",
    "    similar_trips = origin_neighbors & destination_neighbors & time_neighbors\n",
    "    frozen_similar_trips = frozenset(similar_trips.union({trip.name}))\n",
    "    return frozen_similar_trips if similar_trips else np.nan\n",
    "\n",
    "\n",
    "trips['similar_trips'] = trips.apply(get_similar_trips, axis=1)\n",
    "trips.head()"
   ]
  },
  {
   "attachments": {},
   "cell_type": "markdown",
   "metadata": {},
   "source": [
    "Filtramos los viajes que no tienen viajes similares:"
   ]
  },
  {
   "cell_type": "code",
   "execution_count": 558,
   "metadata": {},
   "outputs": [
    {
     "data": {
      "text/html": [
       "<div>\n",
       "<style scoped>\n",
       "    .dataframe tbody tr th:only-of-type {\n",
       "        vertical-align: middle;\n",
       "    }\n",
       "\n",
       "    .dataframe tbody tr th {\n",
       "        vertical-align: top;\n",
       "    }\n",
       "\n",
       "    .dataframe thead th {\n",
       "        text-align: right;\n",
       "    }\n",
       "</style>\n",
       "<table border=\"1\" class=\"dataframe\">\n",
       "  <thead>\n",
       "    <tr style=\"text-align: right;\">\n",
       "      <th></th>\n",
       "      <th>region</th>\n",
       "      <th>origin_coord</th>\n",
       "      <th>destination_coord</th>\n",
       "      <th>datetime</th>\n",
       "      <th>origin_coord_neighbors</th>\n",
       "      <th>destination_coord_neighbors</th>\n",
       "      <th>datetime_neighbors</th>\n",
       "      <th>similar_trips</th>\n",
       "    </tr>\n",
       "  </thead>\n",
       "  <tbody>\n",
       "    <tr>\n",
       "      <th>31</th>\n",
       "      <td>Turin</td>\n",
       "      <td>POINT (7.685899281076795 45.07566566332665)</td>\n",
       "      <td>POINT (7.715597191909829 45.05465181263087)</td>\n",
       "      <td>2023-01-15 13:42:34</td>\n",
       "      <td>[8, 28, 33, 70, 71, 86]</td>\n",
       "      <td>[1, 3, 18, 20, 33, 37, 49, 58, 70, 84]</td>\n",
       "      <td>[4, 6, 14, 15, 17, 20, 22, 24, 29, 33, 34, 37,...</td>\n",
       "      <td>(33, 31)</td>\n",
       "    </tr>\n",
       "    <tr>\n",
       "      <th>33</th>\n",
       "      <td>Turin</td>\n",
       "      <td>POINT (7.662608916626361 45.09442558983316)</td>\n",
       "      <td>POINT (7.724289698249433 45.07378523979249)</td>\n",
       "      <td>2023-01-15 15:11:01</td>\n",
       "      <td>[12, 28, 30, 31, 70, 86]</td>\n",
       "      <td>[1, 18, 20, 31, 37, 49, 58, 84, 86]</td>\n",
       "      <td>[14, 18, 29, 31, 34, 41, 46, 74, 78, 83]</td>\n",
       "      <td>(33, 31)</td>\n",
       "    </tr>\n",
       "  </tbody>\n",
       "</table>\n",
       "</div>"
      ],
      "text/plain": [
       "   region                                 origin_coord  \\\n",
       "31  Turin  POINT (7.685899281076795 45.07566566332665)   \n",
       "33  Turin  POINT (7.662608916626361 45.09442558983316)   \n",
       "\n",
       "                              destination_coord            datetime  \\\n",
       "31  POINT (7.715597191909829 45.05465181263087) 2023-01-15 13:42:34   \n",
       "33  POINT (7.724289698249433 45.07378523979249) 2023-01-15 15:11:01   \n",
       "\n",
       "      origin_coord_neighbors             destination_coord_neighbors  \\\n",
       "31   [8, 28, 33, 70, 71, 86]  [1, 3, 18, 20, 33, 37, 49, 58, 70, 84]   \n",
       "33  [12, 28, 30, 31, 70, 86]     [1, 18, 20, 31, 37, 49, 58, 84, 86]   \n",
       "\n",
       "                                   datetime_neighbors similar_trips  \n",
       "31  [4, 6, 14, 15, 17, 20, 22, 24, 29, 33, 34, 37,...      (33, 31)  \n",
       "33           [14, 18, 29, 31, 34, 41, 46, 74, 78, 83]      (33, 31)  "
      ]
     },
     "execution_count": 558,
     "metadata": {},
     "output_type": "execute_result"
    }
   ],
   "source": [
    "similar_trips = trips.dropna()\n",
    "similar_trips"
   ]
  },
  {
   "attachments": {},
   "cell_type": "markdown",
   "metadata": {},
   "source": [
    "Y obtenemos los viajes similares que cumplen con los supuestos iniciales:"
   ]
  },
  {
   "cell_type": "code",
   "execution_count": 562,
   "metadata": {},
   "outputs": [
    {
     "data": {
      "text/plain": [
       "array([frozenset({33, 31})], dtype=object)"
      ]
     },
     "execution_count": 562,
     "metadata": {},
     "output_type": "execute_result"
    }
   ],
   "source": [
    "similar_trips.similar_trips.unique()"
   ]
  },
  {
   "attachments": {},
   "cell_type": "markdown",
   "metadata": {},
   "source": [
    "Concluyendo que, con los datos actuales de obtiene un solo grupo de viajes similares. Implicando que las personas que realizaron los viajes 31 y 33 podrían realizar un viaje compartido."
   ]
  },
  {
   "attachments": {},
   "cell_type": "markdown",
   "metadata": {},
   "source": [
    "## 2. Funcionalidades"
   ]
  },
  {
   "attachments": {},
   "cell_type": "markdown",
   "metadata": {},
   "source": [
    "### a. Promedio semanal de la cantidad de viajes para un área definida"
   ]
  },
  {
   "attachments": {},
   "cell_type": "markdown",
   "metadata": {},
   "source": [
    "Cargamos nuevamente el dataset original para trabajar con los datos originales:"
   ]
  },
  {
   "cell_type": "code",
   "execution_count": 36,
   "metadata": {},
   "outputs": [],
   "source": [
    "TRIPS_DATASET = \"data/trips.csv\"\n",
    "\n",
    "trips = pd.read_csv(TRIPS_DATASET)\n",
    "\n",
    "trips['origin_coord']      = trips['origin_coord'].apply(wkt.loads)\n",
    "trips['destination_coord'] = trips['destination_coord'].apply(wkt.loads)\n",
    "\n",
    "date_format=\"%Y-%m-%d %H:%M:%S\"\n",
    "trips['datetime'] = trips['datetime'].apply(\n",
    "    lambda x:dt.strptime(x, date_format)\n",
    ")"
   ]
  },
  {
   "attachments": {},
   "cell_type": "markdown",
   "metadata": {},
   "source": [
    "El área se define a través de un bounding box y el campo 'region' del dataset. Con la función `average_weekly_trips` podemos definir a libertad el bounding box y la región a analizar:\n",
    "\n",
    "_Para la API se realizó una versión de esta función con una query SQL, la cual es llamada desde el endpoint `GET /average-weekly-trips` y puede encontrarse en `db/events.py/get_average_weekly_trips`._"
   ]
  },
  {
   "cell_type": "code",
   "execution_count": 55,
   "metadata": {},
   "outputs": [],
   "source": [
    "def average_weekly_trips(df, bbox, region=None,):\n",
    "    \"\"\"Average the number of trips per week for a given region and bounding\n",
    "    box. A trip is considered to be in the bounding box if its origin and\n",
    "    destination are in the bounding box.\n",
    "\n",
    "    Arguments\n",
    "    ---------\n",
    "    df: pd.DataFrame\n",
    "        A pandas DataFrame with the trips data. Must have the columns 'region',\n",
    "        'origin_cord', 'destination_coord', and 'datetime'.\n",
    "    bbox: tuple\n",
    "        A tuple with the bounding box coordinates. The format is (min_lon,\n",
    "        min_lat, max_lon, max_lat).\n",
    "    region: str (optional)\n",
    "        The region to filter the trips. If None, all the trips are considered.\n",
    "\n",
    "    Returns\n",
    "    -------\n",
    "    int\n",
    "        The average number of trips per week.\n",
    "    \"\"\"\n",
    "    if not region:\n",
    "        region = df['region']\n",
    "    filter_df = df[\n",
    "        (df['region'] == region) &\n",
    "        (df['origin_coord'].apply(lambda x: x.within(box(*bbox)))) &\n",
    "        (df['destination_coord'].apply(lambda x: x.within(box(*bbox))))\n",
    "    ]\n",
    "    pd.options.mode.chained_assignment = None\n",
    "    init_date = filter_df.datetime.min()\n",
    "    end_date = filter_df.datetime.max()\n",
    "    return filter_df.shape[0]/((end_date - init_date).days/7)"
   ]
  },
  {
   "attachments": {},
   "cell_type": "markdown",
   "metadata": {},
   "source": [
    "#### - Algunos ejemplos:"
   ]
  },
  {
   "attachments": {},
   "cell_type": "markdown",
   "metadata": {},
   "source": [
    "Promedio semanal de la cantidad de viajes para la ciudad de Hamburgo:"
   ]
  },
  {
   "cell_type": "code",
   "execution_count": 56,
   "metadata": {},
   "outputs": [
    {
     "data": {
      "text/plain": [
       "6.533333333333333"
      ]
     },
     "execution_count": 56,
     "metadata": {},
     "output_type": "execute_result"
    }
   ],
   "source": [
    "hamburg_bbox = (9.5, 53, 10.5, 54)\n",
    "average_weekly_trips(trips, hamburg_bbox, 'Hamburg')"
   ]
  },
  {
   "attachments": {},
   "cell_type": "markdown",
   "metadata": {},
   "source": [
    "Promedio semanal de la cantidad de viajes para la ciudad de Hamburgo (usando solo el bounding box):"
   ]
  },
  {
   "cell_type": "code",
   "execution_count": 57,
   "metadata": {},
   "outputs": [
    {
     "data": {
      "text/plain": [
       "6.533333333333333"
      ]
     },
     "execution_count": 57,
     "metadata": {},
     "output_type": "execute_result"
    }
   ],
   "source": [
    "hamburg_bbox = (9.5, 53, 10.5, 54)\n",
    "average_weekly_trips(trips, hamburg_bbox)"
   ]
  },
  {
   "attachments": {},
   "cell_type": "markdown",
   "metadata": {},
   "source": [
    "Promedio semanal de la cantidad de viajes para la ciudad de Praga:"
   ]
  },
  {
   "cell_type": "code",
   "execution_count": 58,
   "metadata": {},
   "outputs": [
    {
     "data": {
      "text/plain": [
       "8.5"
      ]
     },
     "execution_count": 58,
     "metadata": {},
     "output_type": "execute_result"
    }
   ],
   "source": [
    "prague_bbox = (14.2, 49.9, 15, 50.2)\n",
    "average_weekly_trips(trips, prague_bbox, 'Prague')"
   ]
  },
  {
   "attachments": {},
   "cell_type": "markdown",
   "metadata": {},
   "source": [
    "Promedio semanal de la cantidad de viajes para la ciudad de Turin:"
   ]
  },
  {
   "cell_type": "code",
   "execution_count": 59,
   "metadata": {},
   "outputs": [
    {
     "data": {
      "text/plain": [
       "9.172413793103447"
      ]
     },
     "execution_count": 59,
     "metadata": {},
     "output_type": "execute_result"
    }
   ],
   "source": [
    "turin_bbox = (7.5, 44.5, 8, 45.5)\n",
    "average_weekly_trips(trips, turin_bbox, 'Turin')"
   ]
  },
  {
   "attachments": {},
   "cell_type": "markdown",
   "metadata": {},
   "source": [
    "Promedio semanal de la cantidad de viajes para el sector norte de la ciudad de Turin:"
   ]
  },
  {
   "cell_type": "code",
   "execution_count": 60,
   "metadata": {},
   "outputs": [
    {
     "data": {
      "text/plain": [
       "6.275862068965517"
      ]
     },
     "execution_count": 60,
     "metadata": {},
     "output_type": "execute_result"
    }
   ],
   "source": [
    "turin_north_bbox = (7.5, 45, 8, 45.5)\n",
    "average_weekly_trips(trips, turin_north_bbox, 'Turin')"
   ]
  },
  {
   "attachments": {},
   "cell_type": "markdown",
   "metadata": {},
   "source": [
    "Promedio semanal de la cantidad de viajes en todo el dataset:"
   ]
  },
  {
   "cell_type": "code",
   "execution_count": 61,
   "metadata": {},
   "outputs": [
    {
     "data": {
      "text/plain": [
       "23.333333333333336"
      ]
     },
     "execution_count": 61,
     "metadata": {},
     "output_type": "execute_result"
    }
   ],
   "source": [
    "world_bbox = (-180, -90, 180, 90)\n",
    "average_weekly_trips(trips, world_bbox)"
   ]
  },
  {
   "attachments": {},
   "cell_type": "markdown",
   "metadata": {},
   "source": [
    "### b. Informar sobre el estado de la ingesta de datos"
   ]
  },
  {
   "attachments": {},
   "cell_type": "markdown",
   "metadata": {},
   "source": [
    "Una forma de abordar este problema en la API, es implementar el patrón de diseño Observer. El cual nos permite notificar a los observadores cuando se produce un cambio en el estado de la ingesta de datos.\n",
    "\n",
    "Para que los usuarios puedan suscribirse y desuscribirse a los cambios de estado, bastaría con implementar endpoints `/subscribe` y `/unsubscribe` respectivamente."
   ]
  }
 ],
 "metadata": {
  "kernelspec": {
   "display_name": "carpooling-study-sAXZEjfi",
   "language": "python",
   "name": "python3"
  },
  "language_info": {
   "codemirror_mode": {
    "name": "ipython",
    "version": 3
   },
   "file_extension": ".py",
   "mimetype": "text/x-python",
   "name": "python",
   "nbconvert_exporter": "python",
   "pygments_lexer": "ipython3",
   "version": "3.10.9"
  },
  "orig_nbformat": 4,
  "vscode": {
   "interpreter": {
    "hash": "48f808c521b0e5440dfc871f91ad40da4286828ebbe95a93b13d82239d0e2807"
   }
  }
 },
 "nbformat": 4,
 "nbformat_minor": 2
}
